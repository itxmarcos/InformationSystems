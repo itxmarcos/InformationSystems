{
 "cells": [
  {
   "cell_type": "code",
   "execution_count": 1,
   "metadata": {},
   "outputs": [],
   "source": [
    "# Imports\n",
    "from urllib import * #urlib2 has been moved to several modules\n",
    "from urllib.request import urlopen\n",
    "import tweepy\n",
    "import json\n",
    "import requests\n",
    "from pprint import pprint # used to make the output look more pretty"
   ]
  },
  {
   "cell_type": "code",
   "execution_count": 2,
   "metadata": {},
   "outputs": [],
   "source": [
    "credentials = {}\n",
    "credentials['api_key'] = 'n2dTtVbZuJwji0auruBGVTBwT'\n",
    "credentials['api_secret_key'] = 'U1Er7hNUFtOwmPIz6BCr6w1B3o9GlKhg6loffJVIK0cFAFdkYl'\n",
    "credentials['access_token'] = '987093510116532231-tiHjc16Ws3vcMZpNUt0kuL7xj8iLSy1'\n",
    "credentials['access_token_secret'] = 'ykZmkTz2TIeSajyWDKXvSSxAiFZvMFdD9ePUe0zn5fsna'\n",
    "\n",
    "# Load Twitter API keys\n",
    "api_key = credentials['api_key']\n",
    "api_secret_key = credentials['api_secret_key']\n",
    "access_token = credentials['access_token']\n",
    "access_token_secret = credentials['access_token_secret']\n",
    "\n",
    "# Twitter initialization\n",
    "auth = tweepy.OAuthHandler(api_key, api_secret_key)\n",
    "auth.set_access_token(access_token, access_token_secret)\n",
    "api = tweepy.API(auth)"
   ]
  },
  {
   "cell_type": "code",
   "execution_count": 3,
   "metadata": {},
   "outputs": [],
   "source": [
    "def insert(data, db):\n",
    "    #GET method\n",
    "    payload = data\n",
    "    url='http://localhost:8983/solr/'+db+'/update/json/docs'\n",
    "    headers = {'content-type': 'application/json'}\n",
    "    r = requests.post(url, data=json.dumps(payload), headers=headers)\n",
    "    #print(r.json())\n",
    "\n",
    "    #POST method\n",
    "    url='http://localhost:8983/solr/'+db+'/update/json?commit=true%27'\n",
    "    r = requests.get(url)\n",
    "    #print(r.json())"
   ]
  },
  {
   "cell_type": "code",
   "execution_count": 4,
   "metadata": {},
   "outputs": [],
   "source": [
    "def get_all_tweets(screen_name):\n",
    "    # initialize a list to hold all the tweepy Tweets\n",
    "    alltweets = []\n",
    "    \n",
    "    # make initial request for most recent tweets (200 is the maximum allowed count)\n",
    "    new_tweets = api.user_timeline(screen_name = screen_name,count=200)\n",
    "    \n",
    "    # save most recent tweets\n",
    "    alltweets.extend(new_tweets)\n",
    "    \n",
    "    # save the id of the oldest tweet less one\n",
    "    oldest = alltweets[-1].id - 1\n",
    "    \n",
    "    # keep grabbing tweets until there are no tweets left to grab\n",
    "    while len(new_tweets) > 0:\n",
    "        print(\"getting tweets before %s\" % (oldest))\n",
    "        \n",
    "        # all subsiquent requests use the max_id param to prevent duplicates\n",
    "        new_tweets = api.user_timeline(screen_name = screen_name,count=200,max_id=oldest)\n",
    "        \n",
    "        # save most recent tweets\n",
    "        alltweets.extend(new_tweets)\n",
    "        \n",
    "        # update the id of the oldest tweet less one\n",
    "        oldest = alltweets[-1].id - 1\n",
    "        \n",
    "        print(\"...%s tweets downloaded so far\" % (len(alltweets)))\n",
    "        \n",
    "    #Write into Solr   \n",
    "    for tweet in alltweets:\n",
    "        myTweet = {\n",
    "            'id_str' : tweet.id_str,\n",
    "            'user_id_str' : tweet.user.id_str,\n",
    "            'created_at' : tweet.created_at.strftime('YYY-MM-DDThh:mm:ssZ'),\n",
    "            'user' : {\n",
    "                'id_str' : tweet.user.id_str,\n",
    "                'screen_name' : tweet.user.screen_name,\n",
    "                'followers_count' : tweet.user.followers_count,\n",
    "                'friends_count' : tweet.user.friends_count\n",
    "            },\n",
    "            'text' : tweet.text,\n",
    "            'favorite_count' : tweet.favorite_count,\n",
    "            'in_reply_to_screen_name' : tweet.in_reply_to_screen_name,\n",
    "            'retweet_count' : tweet.retweet_count,\n",
    "            'retweeted' : tweet.retweeted\n",
    "        }\n",
    "        insert(myTweet, 'Tweets')\n",
    "    print('Finished inserting tweets from '+screen_name)"
   ]
  },
  {
   "cell_type": "code",
   "execution_count": 5,
   "metadata": {},
   "outputs": [],
   "source": [
    "# Get the users who have 40 or more followers\n",
    "def simple_query():   \n",
    "    connection = urlopen('http://localhost:8983/solr/Tweets/select?q=user.followers_count%3A%20%5B40%20TO%20*%5D')\n",
    "    response = json.load(connection)\n",
    "    for document in response['response']['docs']:\n",
    "        print (\"  Name =\", document['user.screen_name'])"
   ]
  },
  {
   "cell_type": "code",
   "execution_count": 6,
   "metadata": {},
   "outputs": [],
   "source": [
    "# Get the tweets with the word iPhone\n",
    "def search_query():\n",
    "    connection = urlopen('http://localhost:8983/solr/Tweets/select?q=text%3A%25iPhone%25')\n",
    "    response = json.load(connection)\n",
    "    for document in response['response']['docs']:\n",
    "        print (\"  Name =\", document['text'])"
   ]
  },
  {
   "cell_type": "code",
   "execution_count": 7,
   "metadata": {},
   "outputs": [
    {
     "name": "stdout",
     "output_type": "stream",
     "text": [
      "  Name = ['RT @BenGeskin: @LaughingQuoll Looks great on notchless iPhone 🔥\\n\\n(OnePlus 7 Pro) https://t.co/7H6ZU0MGwK']\n",
      "  Name = ['RT @BenGeskin: @LaughingQuoll Looks great on notchless iPhone 🔥\\n\\n(OnePlus 7 Pro) https://t.co/7H6ZU0MGwK']\n"
     ]
    }
   ],
   "source": [
    "if __name__ == '__main__':\n",
    "    #get_all_tweets(\"srcaballero99\") #pass in the username of the account you want to insert\n",
    "    #get_all_tweets(\"Star_Lord987\")\n",
    "    #get_all_tweets(\"Rush2Loot\")\n",
    "    \n",
    "    simple_query()\n",
    "    search_query()"
   ]
  }
 ],
 "metadata": {
  "kernelspec": {
   "display_name": "Python 3",
   "language": "python",
   "name": "python3"
  },
  "language_info": {
   "codemirror_mode": {
    "name": "ipython",
    "version": 3
   },
   "file_extension": ".py",
   "mimetype": "text/x-python",
   "name": "python",
   "nbconvert_exporter": "python",
   "pygments_lexer": "ipython3",
   "version": "3.8.1"
  }
 },
 "nbformat": 4,
 "nbformat_minor": 4
}
