{
 "cells": [
  {
   "cell_type": "code",
   "execution_count": 4,
   "metadata": {},
   "outputs": [],
   "source": [
    "import pysolr\n",
    "from __future__ import print_function\n",
    "import tweepy\n",
    "import json\n",
    "import csv"
   ]
  },
  {
   "cell_type": "code",
   "execution_count": 7,
   "metadata": {},
   "outputs": [],
   "source": [
    "credentials = {}\n",
    "credentials['api_key'] = 'n2dTtVbZuJwji0auruBGVTBwT'\n",
    "credentials['api_secret_key'] = 'U1Er7hNUFtOwmPIz6BCr6w1B3o9GlKhg6loffJVIK0cFAFdkYl'\n",
    "credentials['access_token'] = '987093510116532231-tiHjc16Ws3vcMZpNUt0kuL7xj8iLSy1'\n",
    "credentials['access_token_secret'] = 'ykZmkTz2TIeSajyWDKXvSSxAiFZvMFdD9ePUe0zn5fsna'\n",
    "\n",
    "# Save the credentials object to file\n",
    "with open(\"twitter_credentials.json\", \"w\") as file:\n",
    "    json.dump(credentials, file)\n",
    "\n",
    "# Load Twitter API secrets from an external JSON file\n",
    "api_key = credentials['api_key']\n",
    "api_secret_key = credentials['api_secret_key']\n",
    "access_token = credentials['access_token']\n",
    "access_token_secret = credentials['access_token_secret']\n",
    "\n",
    "# Twitter initialization\n",
    "auth = tweepy.OAuthHandler(api_key, api_secret_key)\n",
    "auth.set_access_token(access_token, access_token_secret)\n",
    "api = tweepy.API(auth)"
   ]
  },
  {
   "cell_type": "code",
   "execution_count": 6,
   "metadata": {},
   "outputs": [
    {
     "name": "stderr",
     "output_type": "stream",
     "text": [
      "Connection dropped: socket connection broken\n",
      "Connection dropped: socket connection broken\n",
      "Connection dropped: socket connection broken\n",
      "Connection dropped: socket connection broken\n",
      "Connection dropped: socket connection broken\n",
      "Connection dropped: socket connection broken\n",
      "Connection dropped: socket connection broken\n",
      "Connection dropped: socket connection broken\n",
      "Connection dropped: socket connection broken\n",
      "Connection dropped: socket connection broken\n",
      "Connection dropped: socket connection broken\n",
      "Connection dropped: socket connection broken\n",
      "Connection dropped: socket connection broken\n",
      "Connection dropped: socket connection broken\n",
      "Connection dropped: socket connection broken\n",
      "Connection dropped: socket connection broken\n",
      "Failed connecting to Zookeeper within the connection retry policy.\n"
     ]
    },
    {
     "ename": "KazooTimeoutError",
     "evalue": "Connection time-out",
     "output_type": "error",
     "traceback": [
      "\u001b[0;31m---------------------------------------------------------------------------\u001b[0m",
      "\u001b[0;31mKazooTimeoutError\u001b[0m                         Traceback (most recent call last)",
      "\u001b[0;32m<ipython-input-6-711f2f4de2f0>\u001b[0m in \u001b[0;36m<module>\u001b[0;34m\u001b[0m\n\u001b[1;32m      1\u001b[0m \u001b[0;31m# For SolrCloud mode, initialize your Solr like this:\u001b[0m\u001b[0;34m\u001b[0m\u001b[0;34m\u001b[0m\u001b[0;34m\u001b[0m\u001b[0m\n\u001b[0;32m----> 2\u001b[0;31m \u001b[0mzookeeper\u001b[0m \u001b[0;34m=\u001b[0m \u001b[0mpysolr\u001b[0m\u001b[0;34m.\u001b[0m\u001b[0mZooKeeper\u001b[0m\u001b[0;34m(\u001b[0m\u001b[0;34m\"localhost:8983\"\u001b[0m\u001b[0;34m)\u001b[0m\u001b[0;34m\u001b[0m\u001b[0;34m\u001b[0m\u001b[0m\n\u001b[0m\u001b[1;32m      3\u001b[0m \u001b[0msolr\u001b[0m \u001b[0;34m=\u001b[0m \u001b[0mpysolr\u001b[0m\u001b[0;34m.\u001b[0m\u001b[0mSolrCloud\u001b[0m\u001b[0;34m(\u001b[0m\u001b[0mzookeeper\u001b[0m\u001b[0;34m,\u001b[0m \u001b[0;34m\"Tweets\"\u001b[0m\u001b[0;34m)\u001b[0m\u001b[0;34m\u001b[0m\u001b[0;34m\u001b[0m\u001b[0m\n\u001b[1;32m      4\u001b[0m \u001b[0;34m\u001b[0m\u001b[0m\n\u001b[1;32m      5\u001b[0m \u001b[0;31m# Create a client instance. The timeout and authentication options are not required.\u001b[0m\u001b[0;34m\u001b[0m\u001b[0;34m\u001b[0m\u001b[0;34m\u001b[0m\u001b[0m\n",
      "\u001b[0;32m~/opt/miniconda3/envs/bbdd/lib/python3.8/site-packages/pysolr.py\u001b[0m in \u001b[0;36m__init__\u001b[0;34m(self, zkServerAddress, timeout, max_retries, kazoo_client)\u001b[0m\n\u001b[1;32m   1517\u001b[0m             \u001b[0mself\u001b[0m\u001b[0;34m.\u001b[0m\u001b[0mzk\u001b[0m \u001b[0;34m=\u001b[0m \u001b[0mkazoo_client\u001b[0m\u001b[0;34m\u001b[0m\u001b[0;34m\u001b[0m\u001b[0m\n\u001b[1;32m   1518\u001b[0m \u001b[0;34m\u001b[0m\u001b[0m\n\u001b[0;32m-> 1519\u001b[0;31m         \u001b[0mself\u001b[0m\u001b[0;34m.\u001b[0m\u001b[0mzk\u001b[0m\u001b[0;34m.\u001b[0m\u001b[0mstart\u001b[0m\u001b[0;34m(\u001b[0m\u001b[0;34m)\u001b[0m\u001b[0;34m\u001b[0m\u001b[0;34m\u001b[0m\u001b[0m\n\u001b[0m\u001b[1;32m   1520\u001b[0m \u001b[0;34m\u001b[0m\u001b[0m\n\u001b[1;32m   1521\u001b[0m         \u001b[0;32mdef\u001b[0m \u001b[0mconnectionListener\u001b[0m\u001b[0;34m(\u001b[0m\u001b[0mstate\u001b[0m\u001b[0;34m)\u001b[0m\u001b[0;34m:\u001b[0m\u001b[0;34m\u001b[0m\u001b[0;34m\u001b[0m\u001b[0m\n",
      "\u001b[0;32m~/opt/miniconda3/envs/bbdd/lib/python3.8/site-packages/kazoo/client.py\u001b[0m in \u001b[0;36mstart\u001b[0;34m(self, timeout)\u001b[0m\n\u001b[1;32m    633\u001b[0m             \u001b[0mself\u001b[0m\u001b[0;34m.\u001b[0m\u001b[0mstop\u001b[0m\u001b[0;34m(\u001b[0m\u001b[0;34m)\u001b[0m\u001b[0;34m\u001b[0m\u001b[0;34m\u001b[0m\u001b[0m\n\u001b[1;32m    634\u001b[0m             \u001b[0mself\u001b[0m\u001b[0;34m.\u001b[0m\u001b[0mclose\u001b[0m\u001b[0;34m(\u001b[0m\u001b[0;34m)\u001b[0m\u001b[0;34m\u001b[0m\u001b[0;34m\u001b[0m\u001b[0m\n\u001b[0;32m--> 635\u001b[0;31m             \u001b[0;32mraise\u001b[0m \u001b[0mself\u001b[0m\u001b[0;34m.\u001b[0m\u001b[0mhandler\u001b[0m\u001b[0;34m.\u001b[0m\u001b[0mtimeout_exception\u001b[0m\u001b[0;34m(\u001b[0m\u001b[0;34m\"Connection time-out\"\u001b[0m\u001b[0;34m)\u001b[0m\u001b[0;34m\u001b[0m\u001b[0;34m\u001b[0m\u001b[0m\n\u001b[0m\u001b[1;32m    636\u001b[0m \u001b[0;34m\u001b[0m\u001b[0m\n\u001b[1;32m    637\u001b[0m         \u001b[0;32mif\u001b[0m \u001b[0mself\u001b[0m\u001b[0;34m.\u001b[0m\u001b[0mchroot\u001b[0m \u001b[0;32mand\u001b[0m \u001b[0;32mnot\u001b[0m \u001b[0mself\u001b[0m\u001b[0;34m.\u001b[0m\u001b[0mexists\u001b[0m\u001b[0;34m(\u001b[0m\u001b[0;34m\"/\"\u001b[0m\u001b[0;34m)\u001b[0m\u001b[0;34m:\u001b[0m\u001b[0;34m\u001b[0m\u001b[0;34m\u001b[0m\u001b[0m\n",
      "\u001b[0;31mKazooTimeoutError\u001b[0m: Connection time-out"
     ]
    }
   ],
   "source": [
    "# Create a client instance. The timeout and authentication options are not required.\n",
    "#solr = pysolr.Solr('http://localhost:8983/solr/', always_commit=True, timeout=10)\n",
    "\n",
    "# Note that auto_commit defaults to False for performance. You can set\n",
    "# `auto_commit=True` to have commands always update the index immediately, make\n",
    "# an update call with `commit=True`, or use Solr's `autoCommit` / `commitWithin`\n",
    "# to have your data be committed following a particular policy.\n",
    "\n",
    "#*******************************************************************************\n",
    "# For SolrCloud mode, initialize your Solr like this:\n",
    "zookeeper = pysolr.ZooKeeper(\"localhost:8983\")\n",
    "solr = pysolr.SolrCloud(zookeeper, \"Tweets\")\n",
    "\n",
    "# Do a health check.\n",
    "solr.ping()"
   ]
  },
  {
   "cell_type": "code",
   "execution_count": null,
   "metadata": {},
   "outputs": [],
   "source": [
    "# How you'd index data.\n",
    "solr.add([\n",
    "    {\n",
    "        \"id\": \"doc_1\",\n",
    "        \"title\": \"A test document\",\n",
    "    },\n",
    "    {\n",
    "        \"id\": \"doc_2\",\n",
    "        \"title\": \"The Banana: Tasty or Dangerous?\",\n",
    "        \"_doc\": [\n",
    "            { \"id\": \"child_doc_1\", \"title\": \"peel\" },\n",
    "            { \"id\": \"child_doc_2\", \"title\": \"seed\" },\n",
    "        ]\n",
    "    },\n",
    "])\n",
    "\n",
    "# You can index a parent/child document relationship by\n",
    "# associating a list of child documents with the special key '_doc'. This\n",
    "# is helpful for queries that join together conditions on children and parent\n",
    "# documents."
   ]
  },
  {
   "cell_type": "code",
   "execution_count": null,
   "metadata": {},
   "outputs": [],
   "source": [
    "# Later, searching is easy. In the simple case, just a plain Lucene-style\n",
    "# query is fine.\n",
    "results = solr.search('bananas')\n",
    "\n",
    "# The ``Results`` object stores total results found, by default the top\n",
    "# ten most relevant results and any additional data like\n",
    "# facets/highlighting/spelling/etc.\n",
    "print(\"Saw {0} result(s).\".format(len(results)))\n",
    "\n",
    "# Just loop over it to access the results.\n",
    "for result in results:\n",
    "    print(\"The title is '{0}'.\".format(result['title']))\n",
    "\n",
    "# For a more advanced query, say involving highlighting, you can pass\n",
    "# additional options to Solr.\n",
    "results = solr.search('bananas', **{\n",
    "    'hl': 'true',\n",
    "    'hl.fragsize': 10,\n",
    "})\n",
    "\n",
    "# You can also perform More Like This searches, if your Solr is configured\n",
    "# correctly.\n",
    "similar = solr.more_like_this(q='id:doc_2', mltfl='text')"
   ]
  },
  {
   "cell_type": "code",
   "execution_count": null,
   "metadata": {},
   "outputs": [],
   "source": [
    "# Finally, you can delete either individual documents,\n",
    "solr.delete(id='doc_1')\n",
    "\n",
    "# also in batches...\n",
    "solr.delete(id=['doc_1', 'doc_2'])\n",
    "\n",
    "# ...or all documents.\n",
    "solr.delete(q='*:*')"
   ]
  }
 ],
 "metadata": {
  "kernelspec": {
   "display_name": "Python 3",
   "language": "python",
   "name": "python3"
  },
  "language_info": {
   "codemirror_mode": {
    "name": "ipython",
    "version": 3
   },
   "file_extension": ".py",
   "mimetype": "text/x-python",
   "name": "python",
   "nbconvert_exporter": "python",
   "pygments_lexer": "ipython3",
   "version": "3.8.1"
  }
 },
 "nbformat": 4,
 "nbformat_minor": 4
}
