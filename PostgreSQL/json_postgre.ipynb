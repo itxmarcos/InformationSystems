{
 "cells": [
  {
   "cell_type": "code",
   "execution_count": 15,
   "metadata": {},
   "outputs": [],
   "source": [
    "# import Python's built-in JSON library\n",
    "import json, sys\n",
    "\n",
    "# import the psycopg2 database adapter for PostgreSQL\n",
    "from psycopg2 import connect, Error"
   ]
  },
  {
   "cell_type": "code",
   "execution_count": 16,
   "metadata": {},
   "outputs": [],
   "source": [
    "# use Python's open() function to load the JSON data\n",
    "with open('tweets.json') as json_data:\n",
    "\n",
    "    # use load() rather than loads() for JSON files\n",
    "    record_list = json.load(json_data)"
   ]
  },
  {
   "cell_type": "code",
   "execution_count": 17,
   "metadata": {},
   "outputs": [],
   "source": [
    "if type(record_list) == list:\n",
    "    first_record = record_list[0]"
   ]
  },
  {
   "cell_type": "code",
   "execution_count": 18,
   "metadata": {},
   "outputs": [
    {
     "name": "stdout",
     "output_type": "stream",
     "text": [
      "\n",
      "column names: ['date', 'placeFullName', 'utcOffset', 'latitude', 'collectorID', 'language', 'source', 'userName', 'url', 'currentUserRetweetId', 'createdAt', 'urls', 'hashtagEntities', 'search', 'userScreenName', 'id', 'text', 'retweets', 'timestamp', 'longitude', 'isRetweet', 'likes']\n"
     ]
    }
   ],
   "source": [
    " # get the column names from the first record\n",
    "columns = list(first_record.keys())\n",
    "#Another way of getting columns\n",
    "# columns = [list(x.keys()) for x in record_list][0]\n",
    "print (\"\\ncolumn names:\", columns)"
   ]
  },
  {
   "cell_type": "code",
   "execution_count": 19,
   "metadata": {},
   "outputs": [],
   "source": [
    "table_name = \"json_data\"\n",
    "sql_string = 'INSERT INTO {} '.format( table_name )\n",
    "sql_string += \"(\" + ', '.join(columns) + \")\\nVALUES \""
   ]
  },
  {
   "cell_type": "code",
   "execution_count": null,
   "metadata": {},
   "outputs": [],
   "source": []
  },
  {
   "cell_type": "code",
   "execution_count": 20,
   "metadata": {},
   "outputs": [],
   "source": [
    "# enumerate over the record\n",
    "for i, record_dict in enumerate(record_list):\n",
    "\n",
    "    # iterate over the values of each record dict object\n",
    "    values = []\n",
    "    for col_names, val in record_dict.items():\n",
    "\n",
    "        # Postgres strings must be enclosed with single quotes\n",
    "        if type(val) == str:\n",
    "            # escape apostrophies with two single quotations\n",
    "            val = val.replace(\"'\", \"''\")\n",
    "            val = \"'\" + val + \"'\"\n",
    "\n",
    "        values += [ str(val) ]"
   ]
  },
  {
   "cell_type": "code",
   "execution_count": 21,
   "metadata": {},
   "outputs": [],
   "source": [
    "# join the list of values and enclose record in parenthesis\n",
    "sql_string += \"(\" + ', '.join(values) + \"),\\n\"\n",
    "\n",
    "# remove the last comma and end statement with a semicolon\n",
    "sql_string = sql_string[:-2] + \";\""
   ]
  },
  {
   "cell_type": "code",
   "execution_count": 22,
   "metadata": {},
   "outputs": [
    {
     "name": "stdout",
     "output_type": "stream",
     "text": [
      "\n",
      "SQL statement:\n",
      "INSERT INTO json_data (date, placeFullName, utcOffset, latitude, collectorID, language, source, userName, url, currentUserRetweetId, createdAt, urls, hashtagEntities, search, userScreenName, id, text, retweets, timestamp, longitude, isRetweet, likes)\n",
      "VALUES ('2017-05-04T13:01:24Z', '', 0, '', 'twitter', 'es', 'https://twitter.com/Alicia Gómez Quintan', 'Alicia Gómez Quintan', 'https://twitter.com/Alicia Gómez Quintan/status/860086955396050944', '-1', '04-may-2017', ['http://dlvr.it/P3Zqtf'], 'aragon', 'AlgTin', '860086955396050944', 'Desaparece el conductor de un coche que fue arrollado por un camión en Teruel https://t.co/t75WjKx9OX https://t.co/xvzwMrDguN', 0, '1493895684000', '', 'false', 0);\n"
     ]
    }
   ],
   "source": [
    "print (\"\\nSQL statement:\")\n",
    "print (sql_string)"
   ]
  },
  {
   "cell_type": "code",
   "execution_count": null,
   "metadata": {},
   "outputs": [],
   "source": []
  }
 ],
 "metadata": {
  "kernelspec": {
   "display_name": "Python 3",
   "language": "python",
   "name": "python3"
  },
  "language_info": {
   "codemirror_mode": {
    "name": "ipython",
    "version": 3
   },
   "file_extension": ".py",
   "mimetype": "text/x-python",
   "name": "python",
   "nbconvert_exporter": "python",
   "pygments_lexer": "ipython3",
   "version": "3.8.1"
  }
 },
 "nbformat": 4,
 "nbformat_minor": 4
}
